{
 "cells": [
  {
   "cell_type": "code",
   "execution_count": 1,
   "id": "fe423ead",
   "metadata": {},
   "outputs": [],
   "source": [
    "import os\n",
    "import sys\n",
    "main_path = os.path.abspath(os.path.join('..'))\n",
    "if main_path not in sys.path:\n",
    "    sys.path.append(main_path)"
   ]
  },
  {
   "cell_type": "markdown",
   "id": "1bfaba77",
   "metadata": {},
   "source": [
    "### Data Wrangling"
   ]
  },
  {
   "cell_type": "code",
   "execution_count": 2,
   "id": "e4544418",
   "metadata": {},
   "outputs": [],
   "source": [
    "from src.data.make_dataset import *"
   ]
  },
  {
   "cell_type": "markdown",
   "id": "058dfa08",
   "metadata": {},
   "source": [
    "#### Clean Data\n",
    "Run the following sections of code in order to clean the data. If \"clean.csv\" file already exists in the data folder you can skip to the \"Exploratory Data Analysis\" section. "
   ]
  },
  {
   "cell_type": "code",
   "execution_count": 3,
   "id": "0596e5d2",
   "metadata": {},
   "outputs": [
    {
     "name": "stderr",
     "output_type": "stream",
     "text": [
      "/opt/anaconda3/lib/python3.8/site-packages/IPython/core/interactiveshell.py:3357: DtypeWarning: Columns (13,14,15) have mixed types.Specify dtype option on import or set low_memory=False.\n",
      "  if (await self.run_code(code, result,  async_=asy)):\n"
     ]
    }
   ],
   "source": [
    "# instance of class which clean the dataset\n",
    "makeData = MakeDataset(project_dir = main_path)"
   ]
  },
  {
   "cell_type": "code",
   "execution_count": 4,
   "id": "72850437",
   "metadata": {},
   "outputs": [
    {
     "name": "stdout",
     "output_type": "stream",
     "text": [
      "<class 'pandas.core.frame.DataFrame'>\n",
      "RangeIndex: 323750 entries, 0 to 323749\n",
      "Data columns (total 17 columns):\n",
      " #   Column         Non-Null Count   Dtype  \n",
      "---  ------         --------------   -----  \n",
      " 0   ID             323750 non-null  int64  \n",
      " 1   name           323746 non-null  object \n",
      " 2   category       323745 non-null  object \n",
      " 3   main_category  323750 non-null  object \n",
      " 4   currency       323750 non-null  object \n",
      " 5   deadline       323750 non-null  object \n",
      " 6   goal           323750 non-null  object \n",
      " 7   launched       323750 non-null  object \n",
      " 8   pledged        323750 non-null  object \n",
      " 9   state          323750 non-null  object \n",
      " 10  backers        323750 non-null  object \n",
      " 11  country        323750 non-null  object \n",
      " 12  usd_pledged    319960 non-null  object \n",
      " 13  Unnamed:_13    625 non-null     object \n",
      " 14  Unnamed:_14    12 non-null      object \n",
      " 15  Unnamed:_15    4 non-null       object \n",
      " 16  Unnamed:_16    1 non-null       float64\n",
      "dtypes: float64(1), int64(1), object(15)\n",
      "memory usage: 42.0+ MB\n"
     ]
    }
   ],
   "source": [
    "# original dataFrame\n",
    "df = makeData.get_df()\n",
    "df.info()"
   ]
  },
  {
   "cell_type": "code",
   "execution_count": 5,
   "id": "9cfccf52",
   "metadata": {},
   "outputs": [
    {
     "data": {
      "text/plain": [
       "13    319336\n",
       "12      3794\n",
       "14       608\n",
       "15         8\n",
       "16         3\n",
       "17         1\n",
       "dtype: int64"
      ]
     },
     "execution_count": 5,
     "metadata": {},
     "output_type": "execute_result"
    }
   ],
   "source": [
    "# check number of non missing values in each row\n",
    "s = df.count(axis=1)\n",
    "s.value_counts()"
   ]
  },
  {
   "cell_type": "markdown",
   "id": "21f33814",
   "metadata": {},
   "source": [
    "##### Observations:\n",
    "- We have 3794 rows (1.1%) with one missing value.\n",
    "- 98,63% of rows have exactly 13 values"
   ]
  },
  {
   "cell_type": "code",
   "execution_count": 6,
   "id": "54668cf7",
   "metadata": {},
   "outputs": [
    {
     "name": "stdout",
     "output_type": "stream",
     "text": [
      "Cleaning is Done. You can find the csvFile in data/clean.csv file\n",
      "<class 'pandas.core.frame.DataFrame'>\n",
      "Int64Index: 278492 entries, 0 to 323749\n",
      "Data columns (total 14 columns):\n",
      " #   Column           Non-Null Count   Dtype         \n",
      "---  ------           --------------   -----         \n",
      " 0   ID               278492 non-null  int64         \n",
      " 1   name             278489 non-null  object        \n",
      " 2   category         278492 non-null  object        \n",
      " 3   main_category    278492 non-null  object        \n",
      " 4   currency         278492 non-null  object        \n",
      " 5   deadline         278492 non-null  datetime64[ns]\n",
      " 6   goal             278492 non-null  float64       \n",
      " 7   launched         278492 non-null  datetime64[ns]\n",
      " 8   pledged          278492 non-null  float64       \n",
      " 9   state            278492 non-null  object        \n",
      " 10  backers          278492 non-null  float64       \n",
      " 11  country          274751 non-null  object        \n",
      " 12  usd_pledged      278492 non-null  float64       \n",
      " 13  compaign_period  278492 non-null  float64       \n",
      "dtypes: datetime64[ns](2), float64(5), int64(1), object(6)\n",
      "memory usage: 31.9+ MB\n"
     ]
    }
   ],
   "source": [
    "# clean dataset \n",
    "df = makeData.clean_dataset()\n",
    "df.info()"
   ]
  },
  {
   "cell_type": "markdown",
   "id": "87b7e316",
   "metadata": {},
   "source": [
    "##### Observation:\n",
    "- 13,97% of rows were dropped."
   ]
  },
  {
   "cell_type": "markdown",
   "id": "11d63c7e",
   "metadata": {},
   "source": [
    "### Exploratory Data Analysis"
   ]
  },
  {
   "cell_type": "code",
   "execution_count": 2,
   "id": "345b70a0",
   "metadata": {},
   "outputs": [],
   "source": [
    "from src.visualizations.visualize import *\n",
    "from src.data.make_dataset import *"
   ]
  },
  {
   "cell_type": "code",
   "execution_count": 3,
   "id": "16a5747f",
   "metadata": {},
   "outputs": [
    {
     "name": "stderr",
     "output_type": "stream",
     "text": [
      "/opt/anaconda3/lib/python3.8/site-packages/IPython/core/interactiveshell.py:3357: DtypeWarning: Columns (13,14,15) have mixed types.Specify dtype option on import or set low_memory=False.\n",
      "  if (await self.run_code(code, result,  async_=asy)):\n"
     ]
    }
   ],
   "source": [
    "# instance of class which clean the dataset\n",
    "makeData = MakeDataset(project_dir = main_path)\n",
    "df = makeData.get_clean_df()"
   ]
  },
  {
   "cell_type": "markdown",
   "id": "8ac2a21e",
   "metadata": {},
   "source": [
    "#### Data Balance"
   ]
  },
  {
   "cell_type": "code",
   "execution_count": 4,
   "id": "c674799a",
   "metadata": {},
   "outputs": [
    {
     "data": {
      "text/plain": [
       "failed        166001\n",
       "successful    112491\n",
       "Name: state, dtype: int64"
      ]
     },
     "execution_count": 4,
     "metadata": {},
     "output_type": "execute_result"
    }
   ],
   "source": [
    "df.state.value_counts()"
   ]
  },
  {
   "cell_type": "markdown",
   "id": "2c750248",
   "metadata": {},
   "source": [
    "##### Observation:\n",
    "- 40,39% of projects are successful.\n",
    "- 59,60% of projects failed.\n",
    "> The data is slightly unbalanced"
   ]
  },
  {
   "cell_type": "code",
   "execution_count": 5,
   "id": "c949751b",
   "metadata": {},
   "outputs": [],
   "source": [
    "df[\"percentage_achieved\"] = df[\"pledged\"]/df[\"goal\"]"
   ]
  },
  {
   "cell_type": "code",
   "execution_count": 6,
   "id": "1b94c476",
   "metadata": {},
   "outputs": [],
   "source": [
    "visualize = Visualize(df)"
   ]
  },
  {
   "cell_type": "markdown",
   "id": "c660b0a7",
   "metadata": {},
   "source": [
    "#### Univariate Plots"
   ]
  },
  {
   "cell_type": "code",
   "execution_count": 7,
   "id": "9e16c362",
   "metadata": {},
   "outputs": [
    {
     "data": {
      "image/png": "[encoded data removed]",
      "text/plain": [
       "<Figure size 432x288 with 1 Axes>"
      ]
     },
     "metadata": {},
     "output_type": "display_data"
    }
   ],
   "source": [
    "# compaign_period (in days)\n",
    "visualize.univariate_plot(\"compaign_period\")"
   ]
  },
  {
   "cell_type": "code",
   "execution_count": 8,
   "id": "4ca32297",
   "metadata": {},
   "outputs": [
    {
     "data": {
      "image/png": "[encoded data removed]",
      "text/plain": [
       "<Figure size 432x288 with 1 Axes>"
      ]
     },
     "metadata": {},
     "output_type": "display_data"
    }
   ],
   "source": [
    "# main_category\n",
    "visualize.univariate_plot(\"main_category\")"
   ]
  },
  {
   "cell_type": "code",
   "execution_count": 9,
   "id": "3ee220b2",
   "metadata": {},
   "outputs": [
    {
     "data": {
      "image/png": "[encoded data removed]",
      "text/plain": [
       "<Figure size 432x288 with 1 Axes>"
      ]
     },
     "metadata": {},
     "output_type": "display_data"
    }
   ],
   "source": [
    "# country\n",
    "visualize.univariate_plot(\"country\")"
   ]
  },
  {
   "cell_type": "markdown",
   "id": "6e17e249",
   "metadata": {},
   "source": [
    "#### Outliers Detection"
   ]
  },
  {
   "cell_type": "code",
   "execution_count": 10,
   "id": "4597900b",
   "metadata": {},
   "outputs": [
    {
     "data": {
      "image/png": "[encoded data removed]",
      "text/plain": [
       "<Figure size 432x288 with 1 Axes>"
      ]
     },
     "metadata": {},
     "output_type": "display_data"
    }
   ],
   "source": [
    "# percentage_achieved\n",
    "visualize.box_plot(\"percentage_achieved\")"
   ]
  },
  {
   "cell_type": "code",
   "execution_count": 13,
   "id": "d1b44cd7",
   "metadata": {},
   "outputs": [
    {
     "data": {
      "text/plain": [
       "state\n",
       "failed        0.089679\n",
       "successful    7.952160\n",
       "Name: percentage_achieved, dtype: float64"
      ]
     },
     "execution_count": 13,
     "metadata": {},
     "output_type": "execute_result"
    }
   ],
   "source": [
    "# mean of percentage_achieved \n",
    "df.groupby([\"state\"])[\"percentage_achieved\"].mean()"
   ]
  },
  {
   "cell_type": "code",
   "execution_count": 14,
   "id": "296264d8",
   "metadata": {},
   "outputs": [
    {
     "data": {
      "text/plain": [
       "state\n",
       "failed          0.150094\n",
       "successful    428.551019\n",
       "Name: percentage_achieved, dtype: float64"
      ]
     },
     "execution_count": 14,
     "metadata": {},
     "output_type": "execute_result"
    }
   ],
   "source": [
    "# std of percentage-achieved\n",
    "df.groupby([\"state\"])[\"percentage_achieved\"].std()"
   ]
  },
  {
   "cell_type": "code",
   "execution_count": 15,
   "id": "9b2e3240",
   "metadata": {},
   "outputs": [
    {
     "data": {
      "image/png": "[encoded data removed]",
      "text/plain": [
       "<Figure size 432x288 with 1 Axes>"
      ]
     },
     "metadata": {},
     "output_type": "display_data"
    }
   ],
   "source": [
    "# backers\n",
    "visualize.box_plot(\"backers\")"
   ]
  },
  {
   "cell_type": "code",
   "execution_count": 16,
   "id": "0af7c0d2",
   "metadata": {},
   "outputs": [
    {
     "data": {
      "text/plain": [
       "state\n",
       "failed         16.725935\n",
       "successful    252.958503\n",
       "Name: backers, dtype: float64"
      ]
     },
     "execution_count": 16,
     "metadata": {},
     "output_type": "execute_result"
    }
   ],
   "source": [
    "# mean of number of backers \n",
    "df.groupby([\"state\"])[\"backers\"].mean()"
   ]
  },
  {
   "cell_type": "code",
   "execution_count": 17,
   "id": "d3c769f3",
   "metadata": {},
   "outputs": [
    {
     "data": {
      "text/plain": [
       "state\n",
       "failed          75.106436\n",
       "successful    1563.412507\n",
       "Name: backers, dtype: float64"
      ]
     },
     "execution_count": 17,
     "metadata": {},
     "output_type": "execute_result"
    }
   ],
   "source": [
    "# std of number of backers\n",
    "df.groupby([\"state\"])[\"backers\"].std()"
   ]
  },
  {
   "cell_type": "markdown",
   "id": "422adf3a",
   "metadata": {},
   "source": [
    "##### Observation:\n",
    "- There is more variance in both the percentage achieved (pledged/goal) and number of backers for successful projects.\n",
    "> It is a sign of the presence of outliers\n"
   ]
  },
  {
   "cell_type": "code",
   "execution_count": null,
   "id": "e60cd72a",
   "metadata": {},
   "outputs": [],
   "source": []
  },
  {
   "cell_type": "code",
   "execution_count": null,
   "id": "6b0e6d96",
   "metadata": {},
   "outputs": [],
   "source": []
  }
 ],
 "metadata": {
  "kernelspec": {
   "display_name": "Python 3",
   "language": "python",
   "name": "python3"
  },
  "language_info": {
   "codemirror_mode": {
    "name": "ipython",
    "version": 3
   },
   "file_extension": ".py",
   "mimetype": "text/x-python",
   "name": "python",
   "nbconvert_exporter": "python",
   "pygments_lexer": "ipython3",
   "version": "3.8.8"
  }
 },
 "nbformat": 4,
 "nbformat_minor": 5
}
