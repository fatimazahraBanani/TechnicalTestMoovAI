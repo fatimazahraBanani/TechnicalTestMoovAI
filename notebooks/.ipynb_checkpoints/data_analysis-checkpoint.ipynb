{
 "cells": [
  {
   "cell_type": "code",
   "execution_count": 1,
   "id": "fe423ead",
   "metadata": {},
   "outputs": [],
   "source": [
    "import os\n",
    "import sys\n",
    "main_path = os.path.abspath(os.path.join('..'))\n",
    "if main_path not in sys.path:\n",
    "    sys.path.append(main_path)"
   ]
  },
  {
   "cell_type": "markdown",
   "id": "1bfaba77",
   "metadata": {},
   "source": [
    "### Data Wrangling"
   ]
  },
  {
   "cell_type": "code",
   "execution_count": 2,
   "id": "e4544418",
   "metadata": {},
   "outputs": [],
   "source": [
    "from src.data.make_dataset import *"
   ]
  },
  {
   "cell_type": "markdown",
   "id": "058dfa08",
   "metadata": {},
   "source": [
    "#### Clean Data\n",
    "Run the following sections of code in order to clean the data. If \"clean.csv\" file already exists in the data folder you can skip to the \"Exploratory Data Analysis\" section. "
   ]
  },
  {
   "cell_type": "code",
   "execution_count": 3,
   "id": "0596e5d2",
   "metadata": {},
   "outputs": [
    {
     "name": "stderr",
     "output_type": "stream",
     "text": [
      "/opt/anaconda3/lib/python3.8/site-packages/IPython/core/interactiveshell.py:3357: DtypeWarning: Columns (13,14,15) have mixed types.Specify dtype option on import or set low_memory=False.\n",
      "  if (await self.run_code(code, result,  async_=asy)):\n"
     ]
    }
   ],
   "source": [
    "# instance of class which clean the dataset\n",
    "makeData = MakeDataset(project_dir = main_path)"
   ]
  },
  {
   "cell_type": "code",
   "execution_count": 4,
   "id": "72850437",
   "metadata": {},
   "outputs": [
    {
     "name": "stdout",
     "output_type": "stream",
     "text": [
      "<class 'pandas.core.frame.DataFrame'>\n",
      "RangeIndex: 323750 entries, 0 to 323749\n",
      "Data columns (total 17 columns):\n",
      " #   Column         Non-Null Count   Dtype  \n",
      "---  ------         --------------   -----  \n",
      " 0   ID             323750 non-null  int64  \n",
      " 1   name           323746 non-null  object \n",
      " 2   category       323745 non-null  object \n",
      " 3   main_category  323750 non-null  object \n",
      " 4   currency       323750 non-null  object \n",
      " 5   deadline       323750 non-null  object \n",
      " 6   goal           323750 non-null  object \n",
      " 7   launched       323750 non-null  object \n",
      " 8   pledged        323750 non-null  object \n",
      " 9   state          323750 non-null  object \n",
      " 10  backers        323750 non-null  object \n",
      " 11  country        323750 non-null  object \n",
      " 12  usd_pledged    319960 non-null  object \n",
      " 13  Unnamed:_13    625 non-null     object \n",
      " 14  Unnamed:_14    12 non-null      object \n",
      " 15  Unnamed:_15    4 non-null       object \n",
      " 16  Unnamed:_16    1 non-null       float64\n",
      "dtypes: float64(1), int64(1), object(15)\n",
      "memory usage: 42.0+ MB\n"
     ]
    }
   ],
   "source": [
    "# original dataFrame\n",
    "df = makeData.get_df()\n",
    "df.info()"
   ]
  },
  {
   "cell_type": "code",
   "execution_count": 5,
   "id": "9cfccf52",
   "metadata": {},
   "outputs": [
    {
     "data": {
      "text/plain": [
       "13    319336\n",
       "12      3794\n",
       "14       608\n",
       "15         8\n",
       "16         3\n",
       "17         1\n",
       "dtype: int64"
      ]
     },
     "execution_count": 5,
     "metadata": {},
     "output_type": "execute_result"
    }
   ],
   "source": [
    "# check number of non missing values in each row\n",
    "s = df.count(axis=1)\n",
    "s.value_counts()"
   ]
  },
  {
   "cell_type": "markdown",
   "id": "21f33814",
   "metadata": {},
   "source": [
    "##### Observations:\n",
    "- We have 3794 rows (1.1%) with one missing value.\n",
    "- 98,63% of rows have exactly 13 values"
   ]
  },
  {
   "cell_type": "code",
   "execution_count": 6,
   "id": "54668cf7",
   "metadata": {},
   "outputs": [
    {
     "name": "stdout",
     "output_type": "stream",
     "text": [
      "Cleaning is Done. You can find the csvFile in data/clean.csv file\n",
      "<class 'pandas.core.frame.DataFrame'>\n",
      "Int64Index: 278492 entries, 0 to 323749\n",
      "Data columns (total 14 columns):\n",
      " #   Column           Non-Null Count   Dtype         \n",
      "---  ------           --------------   -----         \n",
      " 0   ID               278492 non-null  int64         \n",
      " 1   name             278489 non-null  object        \n",
      " 2   category         278492 non-null  object        \n",
      " 3   main_category    278492 non-null  object        \n",
      " 4   currency         278492 non-null  object        \n",
      " 5   deadline         278492 non-null  datetime64[ns]\n",
      " 6   goal             278492 non-null  float64       \n",
      " 7   launched         278492 non-null  datetime64[ns]\n",
      " 8   pledged          278492 non-null  float64       \n",
      " 9   state            278492 non-null  object        \n",
      " 10  backers          278492 non-null  float64       \n",
      " 11  country          274751 non-null  object        \n",
      " 12  usd_pledged      278492 non-null  float64       \n",
      " 13  compaign_period  278492 non-null  float64       \n",
      "dtypes: datetime64[ns](2), float64(5), int64(1), object(6)\n",
      "memory usage: 31.9+ MB\n"
     ]
    }
   ],
   "source": [
    "# clean dataset \n",
    "df = makeData.clean_dataset()\n",
    "df.info()"
   ]
  },
  {
   "cell_type": "markdown",
   "id": "87b7e316",
   "metadata": {},
   "source": [
    "##### Observation:\n",
    "- 13,97% of rows were dropped."
   ]
  },
  {
   "cell_type": "markdown",
   "id": "11d63c7e",
   "metadata": {},
   "source": [
    "### Exploratory Data Analysis"
   ]
  },
  {
   "cell_type": "code",
   "execution_count": 8,
   "id": "c6702694",
   "metadata": {},
   "outputs": [],
   "source": [
    "from src.visualizations.visualize import *\n",
    "from src.data.make_dataset import *"
   ]
  },
  {
   "cell_type": "code",
   "execution_count": 9,
   "id": "f08656dd",
   "metadata": {},
   "outputs": [
    {
     "name": "stderr",
     "output_type": "stream",
     "text": [
      "/opt/anaconda3/lib/python3.8/site-packages/IPython/core/interactiveshell.py:3357: DtypeWarning: Columns (13,14,15) have mixed types.Specify dtype option on import or set low_memory=False.\n",
      "  if (await self.run_code(code, result,  async_=asy)):\n"
     ]
    }
   ],
   "source": [
    "# instance of class which clean the dataset\n",
    "makeData = MakeDataset(project_dir = main_path)\n",
    "df = makeData.get_clean_df()"
   ]
  },
  {
   "cell_type": "markdown",
   "id": "8ac2a21e",
   "metadata": {},
   "source": [
    "#### Data Balance"
   ]
  },
  {
   "cell_type": "code",
   "execution_count": 10,
   "id": "c674799a",
   "metadata": {},
   "outputs": [
    {
     "data": {
      "text/plain": [
       "failed        166001\n",
       "successful    112491\n",
       "Name: state, dtype: int64"
      ]
     },
     "execution_count": 10,
     "metadata": {},
     "output_type": "execute_result"
    }
   ],
   "source": [
    "df.state.value_counts()"
   ]
  },
  {
   "cell_type": "markdown",
   "id": "2c750248",
   "metadata": {},
   "source": [
    "##### Observation:\n",
    "- 40,39% of projects are successful.\n",
    "- 59,60% of projects failed.\n",
    "> The data is slightly unbalanced"
   ]
  },
  {
   "cell_type": "code",
   "execution_count": 11,
   "id": "85021d88",
   "metadata": {},
   "outputs": [],
   "source": [
    "df[\"percentage_achieved\"] = df[\"pledged\"]/df[\"goal\"]"
   ]
  },
  {
   "cell_type": "code",
   "execution_count": 12,
   "id": "7813b131",
   "metadata": {},
   "outputs": [],
   "source": [
    "visualize = Visualize(df)"
   ]
  },
  {
   "cell_type": "markdown",
   "id": "0da0f826",
   "metadata": {},
   "source": [
    "#### Univariate Plots"
   ]
  },
  {
   "cell_type": "code",
   "execution_count": 13,
   "id": "beb4f72e",
   "metadata": {},
   "outputs": [
    {
     "data": {
      "image/png": "[encoded data removed]",
      "text/plain": [
       "<Figure size 432x288 with 1 Axes>"
      ]
     },
     "metadata": {},
     "output_type": "display_data"
    }
   ],
   "source": [
    "# compaign_period (in days)\n",
    "visualize.univariate_plot(\"compaign_period\")"
   ]
  },
  {
   "cell_type": "code",
   "execution_count": 14,
   "id": "8eb55f3f",
   "metadata": {},
   "outputs": [
    {
     "data": {
      "image/png": "[encoded data removed]",
      "text/plain": [
       "<Figure size 432x288 with 1 Axes>"
      ]
     },
     "metadata": {},
     "output_type": "display_data"
    }
   ],
   "source": [
    "# usd_pledged \n",
    "visualize.univariate_plot(\"percentage_achieved\")"
   ]
  },
  {
   "cell_type": "code",
   "execution_count": null,
   "id": "3f5f65a1",
   "metadata": {},
   "outputs": [],
   "source": []
  }
 ],
 "metadata": {
  "kernelspec": {
   "display_name": "Python 3",
   "language": "python",
   "name": "python3"
  },
  "language_info": {
   "codemirror_mode": {
    "name": "ipython",
    "version": 3
   },
   "file_extension": ".py",
   "mimetype": "text/x-python",
   "name": "python",
   "nbconvert_exporter": "python",
   "pygments_lexer": "ipython3",
   "version": "3.8.8"
  }
 },
 "nbformat": 4,
 "nbformat_minor": 5
}
