{
 "cells": [
  {
   "cell_type": "markdown",
   "id": "ba6c15d5",
   "metadata": {},
   "source": [
    "### Data wrangling"
   ]
  },
  {
   "cell_type": "code",
   "execution_count": 1,
   "id": "35464cad",
   "metadata": {},
   "outputs": [],
   "source": [
    "#! pip install pycountry\n",
    "#! pip install forex_python"
   ]
  },
  {
   "cell_type": "code",
   "execution_count": 2,
   "id": "755d52e7",
   "metadata": {},
   "outputs": [],
   "source": [
    "import pandas as pd\n",
    "import os\n",
    "from Data_Preparation.PrepareData import *\n",
    "from Data_Preparation.ScrapeWeb import *"
   ]
  },
  {
   "cell_type": "code",
   "execution_count": 3,
   "id": "fee57f0a",
   "metadata": {},
   "outputs": [
    {
     "name": "stderr",
     "output_type": "stream",
     "text": [
      "/opt/anaconda3/lib/python3.8/site-packages/IPython/core/interactiveshell.py:3165: DtypeWarning: Columns (13,14,15) have mixed types.Specify dtype option on import or set low_memory=False.\n",
      "  has_raised = await self.run_ast_nodes(code_ast.body, cell_name,\n"
     ]
    },
    {
     "name": "stdout",
     "output_type": "stream",
     "text": [
      "<class 'pandas.core.frame.DataFrame'>\n",
      "RangeIndex: 323750 entries, 0 to 323749\n",
      "Data columns (total 17 columns):\n",
      " #   Column         Non-Null Count   Dtype  \n",
      "---  ------         --------------   -----  \n",
      " 0   ID             323750 non-null  int64  \n",
      " 1   name           323746 non-null  object \n",
      " 2   category       323745 non-null  object \n",
      " 3   main_category  323750 non-null  object \n",
      " 4   currency       323750 non-null  object \n",
      " 5   deadline       323750 non-null  object \n",
      " 6   goal           323750 non-null  object \n",
      " 7   launched       323750 non-null  object \n",
      " 8   pledged        323750 non-null  object \n",
      " 9   state          323750 non-null  object \n",
      " 10  backers        323750 non-null  object \n",
      " 11  country        323750 non-null  object \n",
      " 12  usd_pledged    319960 non-null  object \n",
      " 13  Unnamed:_13    625 non-null     object \n",
      " 14  Unnamed:_14    12 non-null      object \n",
      " 15  Unnamed:_15    4 non-null       object \n",
      " 16  Unnamed:_16    1 non-null       float64\n",
      "dtypes: float64(1), int64(1), object(15)\n",
      "memory usage: 42.0+ MB\n"
     ]
    }
   ],
   "source": [
    "# convert the csv file to pandas dataframe\n",
    "df = pd.read_csv(\"Data/ks_dataset.csv\")\n",
    "# rename columns by removing extra space\n",
    "df.rename(columns={col : col.strip().replace(\" \",\"_\") for col in list(df.columns)},inplace = True)\n",
    "# check dataframe's information\n",
    "df.info()"
   ]
  },
  {
   "cell_type": "code",
   "execution_count": 4,
   "id": "4155ab2f",
   "metadata": {},
   "outputs": [
    {
     "data": {
      "text/plain": [
       "13    319336\n",
       "12      3794\n",
       "14       608\n",
       "15         8\n",
       "16         3\n",
       "17         1\n",
       "dtype: int64"
      ]
     },
     "execution_count": 4,
     "metadata": {},
     "output_type": "execute_result"
    }
   ],
   "source": [
    "# check number of non missing values in each row\n",
    "s = df.count(axis=1)\n",
    "s.value_counts()"
   ]
  },
  {
   "cell_type": "markdown",
   "id": "21114e6a",
   "metadata": {},
   "source": [
    "##### Conclusion:\n",
    "- We have 3794 rows (1.1%) with one missing value.\n",
    "- 98,63% of rows have exactly 13 values\n"
   ]
  },
  {
   "cell_type": "code",
   "execution_count": 5,
   "id": "ae8a956b",
   "metadata": {},
   "outputs": [],
   "source": [
    "# instance of class that cleans the data\n",
    "cleanData = CleanData(df)"
   ]
  },
  {
   "cell_type": "markdown",
   "id": "efe91cdd",
   "metadata": {},
   "source": [
    "#### Missing Values"
   ]
  },
  {
   "cell_type": "code",
   "execution_count": 6,
   "id": "f89e9bfb",
   "metadata": {},
   "outputs": [],
   "source": [
    "# drop columns with mostly missing values\n",
    "percent = 85\n",
    "cleanData.missing_values(percent)"
   ]
  },
  {
   "cell_type": "markdown",
   "id": "a26c466b",
   "metadata": {},
   "source": [
    "#### Basic Anomaly Detection"
   ]
  },
  {
   "cell_type": "code",
   "execution_count": 7,
   "id": "4e0d691f",
   "metadata": {},
   "outputs": [],
   "source": [
    "import os\n",
    "\n",
    "# get notebook's folder directory\n",
    "notebook_dir = os.path.dirname(os.path.abspath(\"solution.ipynb\"))\n",
    "\n",
    "# resolve inconsistency in data\n",
    "# inconsistent data will be replaced by nan\n",
    "params = dict()\n",
    "\n",
    "params[\"numerical\"] = [6,8,10,12]\n",
    "params[\"dateTime\"] = [5,7]\n",
    "\n",
    "# dictionary of main_categories and corresponding categories\n",
    "main_categories = select_options(notebook_dir,\"main_category\")\n",
    "categories = select_options(notebook_dir,\"category\")\n",
    "main_sub_dict = {main_categories[i]: categories[i]+[main_categories[i]] for i in range(len(main_categories))}\n",
    "\n",
    "# string columns with known allowed values (flatten version of categories)\n",
    "all_categories = [item for sublist in categories for item in sublist]\n",
    "\n",
    "params[\"allowedValues\"] = []\n",
    "params[\"allowedValues\"].append(\n",
    "    (2,all_categories + main_categories))\n",
    "params[\"allowedValues\"].append(\n",
    "    (3,main_categories))\n",
    "params[\"allowedValues\"].append(\n",
    "    (4,select_options(notebook_dir,\"currency\")))\n",
    "params[\"allowedValues\"].append(\n",
    "    (9,['failed', 'canceled', 'successful', \n",
    "        'live', 'undefined','suspended']))\n",
    "params[\"allowedValues\"].append(\n",
    "    (11,select_options(notebook_dir,\"country\")))\n",
    "\n",
    "cleanData.remove_basic_anomaly(params)"
   ]
  },
  {
   "cell_type": "code",
   "execution_count": 8,
   "id": "f9718eb6",
   "metadata": {},
   "outputs": [],
   "source": [
    "# delete rows with state \"canceled\",\"live\",\"suspended\"\n",
    "df = df[df[\"state\"].isin([\"failed\",\"successful\",\"undefined\",np.nan])]\n",
    "df = df[df[\"category\"].notna()]"
   ]
  },
  {
   "cell_type": "code",
   "execution_count": 9,
   "id": "772e13ac",
   "metadata": {},
   "outputs": [
    {
     "data": {
      "text/plain": [
       "failed        168221\n",
       "successful    113081\n",
       "undefined       3555\n",
       "Name: state, dtype: int64"
      ]
     },
     "execution_count": 9,
     "metadata": {},
     "output_type": "execute_result"
    }
   ],
   "source": [
    "df.state.value_counts()"
   ]
  },
  {
   "cell_type": "code",
   "execution_count": 10,
   "id": "655c6a59",
   "metadata": {},
   "outputs": [
    {
     "name": "stdout",
     "output_type": "stream",
     "text": [
      "<class 'pandas.core.frame.DataFrame'>\n",
      "Int64Index: 284857 entries, 0 to 323749\n",
      "Data columns (total 13 columns):\n",
      " #   Column         Non-Null Count   Dtype         \n",
      "---  ------         --------------   -----         \n",
      " 0   ID             284857 non-null  int64         \n",
      " 1   name           284854 non-null  object        \n",
      " 2   category       284857 non-null  object        \n",
      " 3   main_category  284857 non-null  object        \n",
      " 4   currency       284857 non-null  object        \n",
      " 5   deadline       284857 non-null  datetime64[ns]\n",
      " 6   goal           284857 non-null  float64       \n",
      " 7   launched       284857 non-null  datetime64[ns]\n",
      " 8   pledged        284857 non-null  float64       \n",
      " 9   state          284857 non-null  object        \n",
      " 10  backers        284857 non-null  float64       \n",
      " 11  country        281092 non-null  object        \n",
      " 12  usd_pledged    281092 non-null  float64       \n",
      "dtypes: datetime64[ns](2), float64(4), int64(1), object(6)\n",
      "memory usage: 30.4+ MB\n"
     ]
    }
   ],
   "source": [
    "df.info()"
   ]
  },
  {
   "cell_type": "code",
   "execution_count": 11,
   "id": "90dffc70",
   "metadata": {},
   "outputs": [
    {
     "data": {
      "text/plain": [
       "284857"
      ]
     },
     "execution_count": 11,
     "metadata": {},
     "output_type": "execute_result"
    }
   ],
   "source": [
    "df.deadline.count()"
   ]
  },
  {
   "cell_type": "markdown",
   "id": "83bae5fc",
   "metadata": {},
   "source": [
    "#### Advanced Anomaly Detection"
   ]
  },
  {
   "cell_type": "code",
   "execution_count": 12,
   "id": "c330ccd9",
   "metadata": {},
   "outputs": [],
   "source": [
    "# set cleanData dataframe attribute to the modified df\n",
    "cleanData.df = df\n",
    "\n",
    "# remove some advanced anomaly and fill nan values\n",
    "cleanData.remove_advanced_anomaly(main_sub_dict)"
   ]
  },
  {
   "cell_type": "code",
   "execution_count": 13,
   "id": "83447ea8",
   "metadata": {},
   "outputs": [],
   "source": [
    "df.to_csv(\"tidyData.csv\")"
   ]
  },
  {
   "cell_type": "code",
   "execution_count": 14,
   "id": "5e365d69",
   "metadata": {},
   "outputs": [
    {
     "name": "stdout",
     "output_type": "stream",
     "text": [
      "<class 'pandas.core.frame.DataFrame'>\n",
      "Int64Index: 284857 entries, 0 to 323749\n",
      "Data columns (total 14 columns):\n",
      " #   Column           Non-Null Count   Dtype         \n",
      "---  ------           --------------   -----         \n",
      " 0   ID               284857 non-null  int64         \n",
      " 1   name             284854 non-null  object        \n",
      " 2   category         284857 non-null  object        \n",
      " 3   main_category    284857 non-null  object        \n",
      " 4   currency         284857 non-null  object        \n",
      " 5   deadline         284857 non-null  datetime64[ns]\n",
      " 6   goal             284857 non-null  float64       \n",
      " 7   launched         284857 non-null  datetime64[ns]\n",
      " 8   pledged          284857 non-null  float64       \n",
      " 9   state            284857 non-null  object        \n",
      " 10  backers          284857 non-null  float64       \n",
      " 11  country          281092 non-null  object        \n",
      " 12  usd_pledged      284857 non-null  float64       \n",
      " 13  compaign_period  284857 non-null  float64       \n",
      "dtypes: datetime64[ns](2), float64(5), int64(1), object(6)\n",
      "memory usage: 32.6+ MB\n"
     ]
    }
   ],
   "source": [
    "df.info()"
   ]
  },
  {
   "cell_type": "code",
   "execution_count": 18,
   "id": "02b2ed73",
   "metadata": {},
   "outputs": [],
   "source": [
    "# compaign periods can be from 1 day up to 60 days on kickstarter\n",
    "# delete rows with compaign period greater than 60 days\n",
    "df = df[df['compaign_period']<= (60*24*60*60)]"
   ]
  },
  {
   "cell_type": "code",
   "execution_count": 19,
   "id": "f05ba420",
   "metadata": {},
   "outputs": [
    {
     "name": "stdout",
     "output_type": "stream",
     "text": [
      "<class 'pandas.core.frame.DataFrame'>\n",
      "Int64Index: 278492 entries, 0 to 323749\n",
      "Data columns (total 14 columns):\n",
      " #   Column           Non-Null Count   Dtype         \n",
      "---  ------           --------------   -----         \n",
      " 0   ID               278492 non-null  int64         \n",
      " 1   name             278489 non-null  object        \n",
      " 2   category         278492 non-null  object        \n",
      " 3   main_category    278492 non-null  object        \n",
      " 4   currency         278492 non-null  object        \n",
      " 5   deadline         278492 non-null  datetime64[ns]\n",
      " 6   goal             278492 non-null  float64       \n",
      " 7   launched         278492 non-null  datetime64[ns]\n",
      " 8   pledged          278492 non-null  float64       \n",
      " 9   state            278492 non-null  object        \n",
      " 10  backers          278492 non-null  float64       \n",
      " 11  country          274751 non-null  object        \n",
      " 12  usd_pledged      278492 non-null  float64       \n",
      " 13  compaign_period  278492 non-null  float64       \n",
      "dtypes: datetime64[ns](2), float64(5), int64(1), object(6)\n",
      "memory usage: 31.9+ MB\n"
     ]
    }
   ],
   "source": [
    "df.info()"
   ]
  },
  {
   "cell_type": "code",
   "execution_count": 20,
   "id": "3c555afb",
   "metadata": {},
   "outputs": [
    {
     "data": {
      "text/plain": [
       "min      86400.0\n",
       "max    5184000.0\n",
       "Name: compaign_period, dtype: float64"
      ]
     },
     "execution_count": 20,
     "metadata": {},
     "output_type": "execute_result"
    }
   ],
   "source": [
    "df.compaign_period.agg([min,max])"
   ]
  },
  {
   "cell_type": "code",
   "execution_count": 21,
   "id": "24ad4d57",
   "metadata": {},
   "outputs": [
    {
     "data": {
      "text/html": [
       "<div>\n",
       "<style scoped>\n",
       "    .dataframe tbody tr th:only-of-type {\n",
       "        vertical-align: middle;\n",
       "    }\n",
       "\n",
       "    .dataframe tbody tr th {\n",
       "        vertical-align: top;\n",
       "    }\n",
       "\n",
       "    .dataframe thead th {\n",
       "        text-align: right;\n",
       "    }\n",
       "</style>\n",
       "<table border=\"1\" class=\"dataframe\">\n",
       "  <thead>\n",
       "    <tr style=\"text-align: right;\">\n",
       "      <th></th>\n",
       "      <th>ID</th>\n",
       "      <th>name</th>\n",
       "      <th>category</th>\n",
       "      <th>main_category</th>\n",
       "      <th>currency</th>\n",
       "      <th>deadline</th>\n",
       "      <th>goal</th>\n",
       "      <th>launched</th>\n",
       "      <th>pledged</th>\n",
       "      <th>state</th>\n",
       "      <th>backers</th>\n",
       "      <th>country</th>\n",
       "      <th>usd_pledged</th>\n",
       "      <th>compaign_period</th>\n",
       "    </tr>\n",
       "  </thead>\n",
       "  <tbody>\n",
       "    <tr>\n",
       "      <th>0</th>\n",
       "      <td>1000002330</td>\n",
       "      <td>The Songs of Adelaide &amp; Abullah</td>\n",
       "      <td>Poetry</td>\n",
       "      <td>Publishing</td>\n",
       "      <td>GBP</td>\n",
       "      <td>2015-10-09 11:36:00</td>\n",
       "      <td>1000.0</td>\n",
       "      <td>2015-08-11 12:12:28</td>\n",
       "      <td>0.0</td>\n",
       "      <td>failed</td>\n",
       "      <td>0.0</td>\n",
       "      <td>GB</td>\n",
       "      <td>0.0</td>\n",
       "      <td>5095412.0</td>\n",
       "    </tr>\n",
       "    <tr>\n",
       "      <th>1</th>\n",
       "      <td>1000004038</td>\n",
       "      <td>Where is Hank?</td>\n",
       "      <td>Narrative Film</td>\n",
       "      <td>Film &amp; Video</td>\n",
       "      <td>USD</td>\n",
       "      <td>2013-02-26 00:20:50</td>\n",
       "      <td>45000.0</td>\n",
       "      <td>2013-01-12 00:20:50</td>\n",
       "      <td>220.0</td>\n",
       "      <td>failed</td>\n",
       "      <td>3.0</td>\n",
       "      <td>US</td>\n",
       "      <td>220.0</td>\n",
       "      <td>3888000.0</td>\n",
       "    </tr>\n",
       "    <tr>\n",
       "      <th>2</th>\n",
       "      <td>1000007540</td>\n",
       "      <td>ToshiCapital Rekordz Needs Help to Complete Album</td>\n",
       "      <td>Music</td>\n",
       "      <td>Music</td>\n",
       "      <td>USD</td>\n",
       "      <td>2012-04-16 04:24:11</td>\n",
       "      <td>5000.0</td>\n",
       "      <td>2012-03-17 03:24:11</td>\n",
       "      <td>1.0</td>\n",
       "      <td>failed</td>\n",
       "      <td>1.0</td>\n",
       "      <td>US</td>\n",
       "      <td>1.0</td>\n",
       "      <td>2595600.0</td>\n",
       "    </tr>\n",
       "    <tr>\n",
       "      <th>4</th>\n",
       "      <td>1000014025</td>\n",
       "      <td>Monarch Espresso Bar</td>\n",
       "      <td>Restaurants</td>\n",
       "      <td>Food</td>\n",
       "      <td>USD</td>\n",
       "      <td>2016-04-01 13:38:27</td>\n",
       "      <td>50000.0</td>\n",
       "      <td>2016-02-26 13:38:27</td>\n",
       "      <td>52375.0</td>\n",
       "      <td>successful</td>\n",
       "      <td>224.0</td>\n",
       "      <td>US</td>\n",
       "      <td>52375.0</td>\n",
       "      <td>3024000.0</td>\n",
       "    </tr>\n",
       "    <tr>\n",
       "      <th>5</th>\n",
       "      <td>1000023410</td>\n",
       "      <td>Support Solar Roasted Coffee &amp; Green Energy!  ...</td>\n",
       "      <td>Food</td>\n",
       "      <td>Food</td>\n",
       "      <td>USD</td>\n",
       "      <td>2014-12-21 18:30:44</td>\n",
       "      <td>1000.0</td>\n",
       "      <td>2014-12-01 18:30:44</td>\n",
       "      <td>1205.0</td>\n",
       "      <td>successful</td>\n",
       "      <td>16.0</td>\n",
       "      <td>US</td>\n",
       "      <td>1205.0</td>\n",
       "      <td>1728000.0</td>\n",
       "    </tr>\n",
       "  </tbody>\n",
       "</table>\n",
       "</div>"
      ],
      "text/plain": [
       "           ID                                               name  \\\n",
       "0  1000002330                    The Songs of Adelaide & Abullah   \n",
       "1  1000004038                                     Where is Hank?   \n",
       "2  1000007540  ToshiCapital Rekordz Needs Help to Complete Album   \n",
       "4  1000014025                               Monarch Espresso Bar   \n",
       "5  1000023410  Support Solar Roasted Coffee & Green Energy!  ...   \n",
       "\n",
       "         category main_category currency            deadline     goal  \\\n",
       "0          Poetry    Publishing      GBP 2015-10-09 11:36:00   1000.0   \n",
       "1  Narrative Film  Film & Video      USD 2013-02-26 00:20:50  45000.0   \n",
       "2           Music         Music      USD 2012-04-16 04:24:11   5000.0   \n",
       "4     Restaurants          Food      USD 2016-04-01 13:38:27  50000.0   \n",
       "5            Food          Food      USD 2014-12-21 18:30:44   1000.0   \n",
       "\n",
       "             launched  pledged       state  backers country  usd_pledged  \\\n",
       "0 2015-08-11 12:12:28      0.0      failed      0.0      GB          0.0   \n",
       "1 2013-01-12 00:20:50    220.0      failed      3.0      US        220.0   \n",
       "2 2012-03-17 03:24:11      1.0      failed      1.0      US          1.0   \n",
       "4 2016-02-26 13:38:27  52375.0  successful    224.0      US      52375.0   \n",
       "5 2014-12-01 18:30:44   1205.0  successful     16.0      US       1205.0   \n",
       "\n",
       "   compaign_period  \n",
       "0        5095412.0  \n",
       "1        3888000.0  \n",
       "2        2595600.0  \n",
       "4        3024000.0  \n",
       "5        1728000.0  "
      ]
     },
     "execution_count": 21,
     "metadata": {},
     "output_type": "execute_result"
    }
   ],
   "source": [
    "df.head()"
   ]
  },
  {
   "cell_type": "code",
   "execution_count": null,
   "id": "636299d8",
   "metadata": {},
   "outputs": [],
   "source": []
  }
 ],
 "metadata": {
  "kernelspec": {
   "display_name": "Python 3",
   "language": "python",
   "name": "python3"
  },
  "language_info": {
   "codemirror_mode": {
    "name": "ipython",
    "version": 3
   },
   "file_extension": ".py",
   "mimetype": "text/x-python",
   "name": "python",
   "nbconvert_exporter": "python",
   "pygments_lexer": "ipython3",
   "version": "3.8.8"
  }
 },
 "nbformat": 4,
 "nbformat_minor": 5
}
